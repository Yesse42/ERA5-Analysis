{
 "cells": [
  {
   "cell_type": "code",
   "execution_count": 1,
   "metadata": {},
   "outputs": [
    {
     "name": "stderr",
     "output_type": "stream",
     "text": [
      "\u001b[32m\u001b[1m  Activating\u001b[22m\u001b[39m environment at `~/Desktop/ERA5_Analysis/Project.toml`\n",
      "┌ Info: Precompiling ERA5_Analysis [a4f775dc-9ac1-4079-aa93-d12d58c0fe66]\n",
      "└ @ Base loading.jl:1342\n",
      "\u001b[33m\u001b[1m┌ \u001b[22m\u001b[39m\u001b[33m\u001b[1mWarning: \u001b[22m\u001b[39mPackage ERA5_Analysis does not have StaticArrays in its dependencies:\n",
      "\u001b[33m\u001b[1m│ \u001b[22m\u001b[39m- If you have ERA5_Analysis checked out for development and have\n",
      "\u001b[33m\u001b[1m│ \u001b[22m\u001b[39m  added StaticArrays as a dependency but haven't updated your primary\n",
      "\u001b[33m\u001b[1m│ \u001b[22m\u001b[39m  environment's manifest file, try `Pkg.resolve()`.\n",
      "\u001b[33m\u001b[1m│ \u001b[22m\u001b[39m- Otherwise you may need to report an issue with ERA5_Analysis\n",
      "\u001b[33m\u001b[1m└ \u001b[22m\u001b[39mLoading StaticArrays into ERA5_Analysis from project dependency, future warnings for ERA5_Analysis are suppressed.\n"
     ]
    }
   ],
   "source": [
    "burrowactivate()\n",
    "import ERA5_Analysis as ERA\n",
    "using PyCall, Dictionaries, DataFrames, Shapefile\n",
    "@pyimport matplotlib.pyplot as plt\n",
    "@pyimport matplotlib.patches as mpatches\n",
    "@pyimport cartopy.crs as ccrs"
   ]
  },
  {
   "cell_type": "code",
   "execution_count": 2,
   "metadata": {},
   "outputs": [],
   "source": [
    "\n",
    "#use for allowed ids\n",
    "include(joinpath(ERA.NRCSDATA, \"wanted_stations.jl\"))\n",
    "\n",
    "huc_paths = joinpath.(ERA.ERA5DATA, \"basin_extractions/data/HUC_Shapes/WBDHU\".*string.([6,8]).*\".shp\")\n",
    "shapes = Dictionary([6,8],DataFrame.(Shapefile.Table.(huc_paths)))\n",
    "\n",
    "ax = plt.subplot(1,1,1,projection = ccrs.AlbersEqualArea(central_longitude = -150,\n",
    "            standard_parallels = (57,69)))\n",
    "\n",
    "basincolors = Dictionary(basin_names,[\"red\",\"green\",\"yellow\",\"orange\",\"cyan\"])\n",
    "\n",
    "for (basin_ids, basin_name) in zip(allowed_ids, basin_names)\n",
    "    for huc in basin_ids\n",
    "        shapefile = shapes[length(huc)]\n",
    "        basin_idx = findfirst( ==(huc), shapefile[!, \"huc$(length(huc))\"])\n",
    "        #and use that to grab the polygon\n",
    "        my_polygon = shapefile[basin_idx, :geometry]\n",
    "        poly_verts = hcat(getproperty.(my_polygon.points, :x), getproperty.(my_polygon.points, :y))\n",
    "        poly=mpatches.Polygon(poly_verts, closed=true, alpha=0.7, facecolor = basincolors[basin_name],\n",
    "        transform = ccrs.PlateCarree())\n",
    "        ax.add_patch(poly)\n",
    "    end\n",
    "end\n",
    "ax.set_extent(ERA.ak_bounds, crs=ccrs.PlateCarree())\n",
    "ax.gridlines()\n",
    "ax.coastlines()\n",
    "plt.savefig(\"basin_vis.png\")"
   ]
  },
  {
   "cell_type": "code",
   "execution_count": null,
   "metadata": {},
   "outputs": [],
   "source": []
  }
 ],
 "metadata": {
  "kernelspec": {
   "display_name": "Julia 1.6.3",
   "language": "julia",
   "name": "julia-1.6"
  },
  "language_info": {
   "file_extension": ".jl",
   "mimetype": "application/julia",
   "name": "julia",
   "version": "1.6.3"
  },
  "orig_nbformat": 4
 },
 "nbformat": 4,
 "nbformat_minor": 2
}
