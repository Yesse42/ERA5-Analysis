{
 "cells": [
  {
   "cell_type": "code",
   "execution_count": 19,
   "metadata": {},
   "outputs": [
    {
     "name": "stderr",
     "output_type": "stream",
     "text": [
      "\u001b[32m\u001b[1m  Activating\u001b[22m\u001b[39m project at `~/Desktop/ERA5Analysis`\n"
     ]
    }
   ],
   "source": [
    "cd(\"/Users/jerobinett/Desktop/ERA5Analysis/Basin Data\")\n",
    "burrowactivate()\n",
    "import ERA5Analysis as ERA\n",
    "using PyCall, Dictionaries, DataFrames, Shapefile\n",
    "@pyimport matplotlib.pyplot as plt\n",
    "@pyimport matplotlib.patches as mpatches\n",
    "@pyimport cartopy.crs as ccrs"
   ]
  },
  {
   "cell_type": "code",
   "execution_count": 20,
   "metadata": {},
   "outputs": [],
   "source": [
    "\n",
    "#use for allowed ids\n",
    "\n",
    "huc_paths = \"HUC_Shapes/WBDHU\".*string.([6,8]).*\".shp\"\n",
    "shapes = Dictionary([6,8],DataFrame.(Shapefile.Table.(huc_paths)))\n",
    "\n",
    "ax = plt.subplot(1,1,1,projection = ccrs.AlbersEqualArea(central_longitude = -150,\n",
    "            standard_parallels = (57,69)))\n",
    "\n",
    "basincolors = Dictionary(ERA.basin_names,[\"red\",\"green\",\"purple\",\"orange\",\"blue\", \"pink\", \"yellow\",\"black\"])\n",
    "\n",
    "for (basin_ids, basin_name) in zip(ERA.allowed_hucs, ERA.basin_names)\n",
    "    for huc in basin_ids\n",
    "        shapefile = shapes[length(huc)]\n",
    "        basin_idx = findfirst( ==(huc), shapefile[!, \"huc$(length(huc))\"])\n",
    "        #and use that to grab the polygon\n",
    "        my_polygon = shapefile[basin_idx, :geometry]\n",
    "        poly_verts = hcat(getproperty.(my_polygon.points, :x), getproperty.(my_polygon.points, :y))\n",
    "        poly=mpatches.Polygon(poly_verts, closed=true, alpha=0.7, facecolor = basincolors[basin_name],\n",
    "        transform = ccrs.PlateCarree())\n",
    "        ax.add_patch(poly)\n",
    "    end\n",
    "end\n",
    "ax.set_extent(ERA.ak_bounds, crs=ccrs.PlateCarree())\n",
    "ax.gridlines()\n",
    "ax.coastlines()\n",
    "plt.savefig(\"basin_vis.png\")"
   ]
  },
  {
   "cell_type": "code",
   "execution_count": 21,
   "metadata": {},
   "outputs": [],
   "source": []
  }
 ],
 "metadata": {
  "kernelspec": {
   "display_name": "Julia 1.7.3",
   "language": "julia",
   "name": "julia-1.7"
  },
  "language_info": {
   "file_extension": ".jl",
   "mimetype": "application/julia",
   "name": "julia",
   "version": "1.7.3"
  },
  "orig_nbformat": 4
 },
 "nbformat": 4,
 "nbformat_minor": 2
}
