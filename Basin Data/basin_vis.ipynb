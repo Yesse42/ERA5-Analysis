{
 "cells": [
  {
   "cell_type": "code",
   "execution_count": 19,
   "metadata": {},
   "outputs": [],
   "source": [
    "cd(\"/Users/jerobinett/Desktop/ERA5Analysis/Basin Data\")\n",
    "burrowactivate()\n",
    "import ERA5Analysis as ERA\n",
    "using PyCall, Dictionaries, DataFrames, Shapefile, JLD2, StaticArrays, StatsBase\n",
    "@pyimport matplotlib.pyplot as plt\n",
    "@pyimport matplotlib.patches as mpatches\n",
    "@pyimport cartopy.crs as ccrs"
   ]
  },
  {
   "cell_type": "code",
   "execution_count": 22,
   "metadata": {},
   "outputs": [],
   "source": [
    "\n",
    "#use for allowed ids\n",
    "\n",
    "huc_paths = \"HUC_Shapes/WBDHU\".*string.(ERA.hucsizes).*\".shp\"\n",
    "shapes = Dictionary(ERA.hucsizes,DataFrame.(Shapefile.Table.(huc_paths)))\n",
    "\n",
    "goodproj = ccrs.AlbersEqualArea(central_longitude = -147,\n",
    "standard_parallels = (57,69))\n",
    "\n",
    "gnomon = ccrs.Gnomonic(central_longitude = -147, central_latitude = 64)\n",
    "\n",
    "ax = plt.subplot(1,1,1,projection = gnomon)\n",
    "\n",
    "basincolors = Dictionary(ERA.basin_names,[\"red\",\"green\",\"purple\",\"orange\",\"blue\", \"pink\", \"yellow\",\"black\"])\n",
    "\n",
    "basin_to_polys = jldopen(\"basin_to_polys.jld2\")[\"basin_to_polys\"]\n",
    "\n",
    "bboxargs = Dict(\"facecolor\"=>\"white\", \"edgecolor\"=>\"black\", \"alpha\"=>0.5)\n",
    "\n",
    "for basin in ERA.usable_basins\n",
    "    polys = basin_to_polys[basin]\n",
    "    for poly in polys\n",
    "        poly = reduce(vcat, collect.(permutedims.(poly)))\n",
    "        poly_plot = mpatches.Polygon(poly, closed=true, alpha=0.7, facecolor = basincolors[basin],\n",
    "        transform = ccrs.PlateCarree())\n",
    "        ax.add_patch(poly_plot)\n",
    "    end\n",
    "\n",
    "    ax.text(median(first.(polys[1])), maximum(last.(polys[1])), basin, transform = ccrs.PlateCarree(), bbox=bboxargs)\n",
    "end\n",
    "ax.set_extent(ERA.ak_bounds, crs=ccrs.PlateCarree())\n",
    "ax.gridlines()\n",
    "ax.coastlines()\n",
    "plt.savefig(\"basin_vis.png\")\n",
    "plt.close()"
   ]
  }
 ],
 "metadata": {
  "kernelspec": {
   "display_name": "Julia 1.7.3",
   "language": "julia",
   "name": "julia-1.7"
  },
  "language_info": {
   "file_extension": ".jl",
   "mimetype": "application/julia",
   "name": "julia",
   "version": "1.7.3"
  },
  "orig_nbformat": 4
 },
 "nbformat": 4,
 "nbformat_minor": 2
}
