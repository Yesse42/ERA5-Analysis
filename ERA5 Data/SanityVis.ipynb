{
 "cells": [
  {
   "cell_type": "code",
   "execution_count": 1,
   "metadata": {},
   "outputs": [
    {
     "name": "stdout",
     "output_type": "stream",
     "text": [
      "['1900-01-01T12:00:00.000000000' '1900-01-01T12:00:00.000000000'\n",
      " '1900-01-01T12:00:00.000000000' ... '1900-01-01T12:00:00.000000000'\n",
      " '1900-01-01T12:00:00.000000000' '1900-01-01T12:00:00.000000000']\n"
     ]
    }
   ],
   "source": [
    "import numpy as np, xarray as xr, matplotlib.pyplot as plt, matplotlib.animation as anim\n",
    "\n",
    "ds = xr.open_dataset(\"plotdata.nc\")\n",
    "\n",
    "x = np.array(ds[\"x\"])\n",
    "y = np.array(ds[\"y\"])\n",
    "sd = np.array(ds[\"sd\"])\n",
    "time = np.array(ds[\"time\"])\n",
    "print(time)\n",
    "\n",
    "sd[sd>0.254] = 0.254"
   ]
  },
  {
   "cell_type": "code",
   "execution_count": 2,
   "metadata": {},
   "outputs": [],
   "source": [
    "fig, ax = plt.subplots()\n",
    "\n",
    "def AAAAAAAh():\n",
    "    def animate(i):\n",
    "        ax.clear()\n",
    "        ax.contourf(x,y,sd[i,:,:], levels=50)\n",
    "\n",
    "    return anim.FuncAnimation(fig, animate, frames=range(0, time.size, 30), blit=False)\n",
    "\n",
    "out = AAAAAAAh()\n",
    "out.save(\"ERA-Land Month by Month Animation.mp4\")"
   ]
  },
  {
   "cell_type": "code",
   "execution_count": null,
   "metadata": {},
   "outputs": [],
   "source": []
  }
 ],
 "metadata": {
  "kernelspec": {
   "display_name": "Python 3.9.5 ('base')",
   "language": "python",
   "name": "python3"
  },
  "language_info": {
   "codemirror_mode": {
    "name": "ipython",
    "version": 3
   },
   "file_extension": ".py",
   "mimetype": "text/x-python",
   "name": "python",
   "nbconvert_exporter": "python",
   "pygments_lexer": "ipython3",
   "version": "3.9.13"
  },
  "orig_nbformat": 4,
  "vscode": {
   "interpreter": {
    "hash": "f0a7d05351743e87c646b1f2bf13c0bc239a75c08c223826c602d52b78f91706"
   }
  }
 },
 "nbformat": 4,
 "nbformat_minor": 2
}
